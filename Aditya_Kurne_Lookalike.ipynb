{
 "cells": [
  {
   "cell_type": "code",
   "execution_count": 1,
   "id": "e066d270-548f-495e-bf63-5c6f2dffa20f",
   "metadata": {},
   "outputs": [
    {
     "name": "stdout",
     "output_type": "stream",
     "text": [
      "  CustomerID        CustomerName         Region  SignupDate\n",
      "0      C0001    Lawrence Carroll  South America  2022-07-10\n",
      "1      C0002      Elizabeth Lutz           Asia  2022-02-13\n",
      "2      C0003      Michael Rivera  South America  2024-03-07\n",
      "3      C0004  Kathleen Rodriguez  South America  2022-10-09\n",
      "4      C0005         Laura Weber           Asia  2022-08-15\n",
      "  ProductID              ProductName     Category   Price\n",
      "0      P001     ActiveWear Biography        Books  169.30\n",
      "1      P002    ActiveWear Smartwatch  Electronics  346.30\n",
      "2      P003  ComfortLiving Biography        Books   44.12\n",
      "3      P004            BookWorld Rug   Home Decor   95.69\n",
      "4      P005          TechPro T-Shirt     Clothing  429.31\n",
      "  TransactionID CustomerID ProductID      TransactionDate  Quantity  \\\n",
      "0        T00001      C0199      P067  2024-08-25 12:38:23         1   \n",
      "1        T00112      C0146      P067  2024-05-27 22:23:54         1   \n",
      "2        T00166      C0127      P067  2024-04-25 07:38:55         1   \n",
      "3        T00272      C0087      P067  2024-03-26 22:55:37         2   \n",
      "4        T00363      C0070      P067  2024-03-21 15:10:10         3   \n",
      "\n",
      "   TotalValue   Price  \n",
      "0      300.68  300.68  \n",
      "1      300.68  300.68  \n",
      "2      300.68  300.68  \n",
      "3      601.36  300.68  \n",
      "4      902.04  300.68  \n"
     ]
    }
   ],
   "source": [
    "import pandas as pd\n",
    "\n",
    "\n",
    "customers = pd.read_csv(\"Customers.csv\")\n",
    "products = pd.read_csv(\"Products.csv\")\n",
    "transactions = pd.read_csv(\"Transactions.csv\")\n",
    "\n",
    "\n",
    "print(customers.head())\n",
    "print(products.head())\n",
    "print(transactions.head())\n"
   ]
  },
  {
   "cell_type": "code",
   "execution_count": 2,
   "id": "92ad30c8-aed3-43f6-948b-a10dec4772b7",
   "metadata": {},
   "outputs": [],
   "source": [
    "\n",
    "transaction_summary = transactions.groupby('CustomerID').agg({\n",
    "    'TotalValue': 'sum', \n",
    "    'Quantity': 'sum', \n",
    "    'ProductID': 'nunique'\n",
    "}).reset_index()\n",
    "\n",
    "\n",
    "transaction_summary.rename(columns={\n",
    "    'TotalValue': 'TotalSpending', \n",
    "    'Quantity': 'TotalQuantity', \n",
    "    'ProductID': 'UniqueProducts'\n",
    "}, inplace=True)\n",
    "\n",
    "\n",
    "merged_data = pd.merge(customers, transaction_summary, on='CustomerID', how='left')\n",
    "\n",
    "\n",
    "merged_data.fillna(0, inplace=True)\n"
   ]
  },
  {
   "cell_type": "code",
   "execution_count": 3,
   "id": "4563477d-9da9-41df-80c3-e6934e24d9c9",
   "metadata": {},
   "outputs": [],
   "source": [
    "from sklearn.metrics.pairwise import cosine_similarity\n",
    "import numpy as np\n",
    "\n",
    "\n",
    "features = ['TotalSpending', 'TotalQuantity', 'UniqueProducts']\n",
    "customer_profiles = merged_data[features].values\n",
    "\n",
    "\n",
    "similarity_matrix = cosine_similarity(customer_profiles)\n",
    "\n",
    "\n",
    "lookalikes = {}\n",
    "for idx, customer_id in enumerate(merged_data['CustomerID'][:20]):\n",
    "   \n",
    "    scores = similarity_matrix[idx]\n",
    "    \n",
    "    top_indices = np.argsort(-scores)[1:4]\n",
    "    similar_customers = [(merged_data.iloc[i]['CustomerID'], scores[i]) for i in top_indices]\n",
    "    lookalikes[customer_id] = similar_customers\n",
    "\n",
    "\n",
    "lookalike_df = pd.DataFrame([\n",
    "    {'CustomerID': cust_id, 'Lookalikes': str(similar_list)} \n",
    "    for cust_id, similar_list in lookalikes.items()\n",
    "])\n",
    "\n",
    "lookalike_df.to_csv(\"Lookalike.csv\", index=False)\n"
   ]
  },
  {
   "cell_type": "code",
   "execution_count": null,
   "id": "d6d416df-675f-4287-9b42-207d25d7007a",
   "metadata": {},
   "outputs": [],
   "source": []
  }
 ],
 "metadata": {
  "kernelspec": {
   "display_name": "Python 3 (ipykernel)",
   "language": "python",
   "name": "python3"
  },
  "language_info": {
   "codemirror_mode": {
    "name": "ipython",
    "version": 3
   },
   "file_extension": ".py",
   "mimetype": "text/x-python",
   "name": "python",
   "nbconvert_exporter": "python",
   "pygments_lexer": "ipython3",
   "version": "3.12.0"
  }
 },
 "nbformat": 4,
 "nbformat_minor": 5
}
